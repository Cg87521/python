{
 "cells": [
  {
   "cell_type": "code",
   "execution_count": 2,
   "metadata": {},
   "outputs": [],
   "source": [
    "import tensorflow as tf\n",
    "import numpy as np\n",
    "import matplotlib.pyplot as plt"
   ]
  },
  {
   "cell_type": "code",
   "execution_count": 4,
   "metadata": {},
   "outputs": [],
   "source": [
    "learning_rate = 0.01\n",
    "training_epochs = 1000\n",
    "dispaly_step = 50"
   ]
  },
  {
   "cell_type": "code",
   "execution_count": 5,
   "metadata": {},
   "outputs": [],
   "source": [
    "train_X = np.array([3.3,4.4,5.5,6.71,6.93,4.168,9.779,6.182,7.59,2.167,\n",
    "                         7.042,10.791,5.313,7.997,5.654,9.27,3.1])\n",
    "train_Y = np.array([1.7,2.76,2.09,3.19,1.694,1.573,3.366,2.596,2.53,1.221,\n",
    "                         2.827,3.465,1.65,2.904,2.42,2.94,1.3])\n",
    "n_samples = train_X.shape[0]"
   ]
  },
  {
   "cell_type": "code",
   "execution_count": 6,
   "metadata": {},
   "outputs": [],
   "source": [
    "X = tf.placeholder(\"float\")\n",
    "Y = tf.placeholder(\"float\")\n",
    "\n",
    "W = tf.Variable(np.random.randn(),name=\"weight\")\n",
    "b = tf.Variable(np.random.randn(),name=\"bias\")"
   ]
  },
  {
   "cell_type": "code",
   "execution_count": 7,
   "metadata": {},
   "outputs": [],
   "source": [
    "pred = tf.add(tf.multiply(X,W),b)"
   ]
  },
  {
   "cell_type": "code",
   "execution_count": 8,
   "metadata": {},
   "outputs": [],
   "source": [
    "cost = tf.reduce_sum(tf.pow(pred-Y,2))/(2*n_samples)\n",
    "\n",
    "optimizer = tf.train.GradientDescentOptimizer(learning_rate).minimize(cost)"
   ]
  },
  {
   "cell_type": "code",
   "execution_count": 9,
   "metadata": {},
   "outputs": [],
   "source": [
    "init = tf.global_variables_initializer()"
   ]
  },
  {
   "cell_type": "code",
   "execution_count": 10,
   "metadata": {},
   "outputs": [
    {
     "name": "stdout",
     "output_type": "stream",
     "text": [
      "Epoch: 0050 cost= 0.151966304 W= 0.4027413 b= -0.3002676\n",
      "Epoch: 0100 cost= 0.143300429 W= 0.39363292 b= -0.23474218\n",
      "Epoch: 0150 cost= 0.135635450 W= 0.38506627 b= -0.17311391\n",
      "Epoch: 0200 cost= 0.128855839 W= 0.37700903 b= -0.11515115\n",
      "Epoch: 0250 cost= 0.122859351 W= 0.36943108 b= -0.060635556\n",
      "Epoch: 0300 cost= 0.117555544 W= 0.36230382 b= -0.009362348\n",
      "Epoch: 0350 cost= 0.112864465 W= 0.35560033 b= 0.0388615\n",
      "Epoch: 0400 cost= 0.108715363 W= 0.34929565 b= 0.084217176\n",
      "Epoch: 0450 cost= 0.105045624 W= 0.34336588 b= 0.12687534\n",
      "Epoch: 0500 cost= 0.101799943 W= 0.3377888 b= 0.16699651\n",
      "Epoch: 0550 cost= 0.098929301 W= 0.3325434 b= 0.20473132\n",
      "Epoch: 0600 cost= 0.096390411 W= 0.32761002 b= 0.24022184\n",
      "Epoch: 0650 cost= 0.094144963 W= 0.32297006 b= 0.27360168\n",
      "Epoch: 0700 cost= 0.092159010 W= 0.31860593 b= 0.30499664\n",
      "Epoch: 0750 cost= 0.090402655 W= 0.31450143 b= 0.33452386\n",
      "Epoch: 0800 cost= 0.088849314 W= 0.3106411 b= 0.36229527\n",
      "Epoch: 0850 cost= 0.087475583 W= 0.30701023 b= 0.38841546\n",
      "Epoch: 0900 cost= 0.086260714 W= 0.3035954 b= 0.41298145\n",
      "Epoch: 0950 cost= 0.085186347 W= 0.30038366 b= 0.4360861\n",
      "Epoch: 1000 cost= 0.084236234 W= 0.29736292 b= 0.45781717\n",
      "Optimization Finished!\n",
      "Training cost= 0.084236234 W= 0.29736292 b= 0.45781717 \n",
      "\n"
     ]
    },
    {
     "data": {
      "image/png": "[encoded data removed]",
      "text/plain": [
       "<Figure size 432x288 with 1 Axes>"
      ]
     },
     "metadata": {},
     "output_type": "display_data"
    }
   ],
   "source": [
    "with tf.Session() as sess:\n",
    "    sess.run(init)\n",
    "    \n",
    "    for epoch in range(training_epochs):\n",
    "        for(x,y) in zip(train_X,train_Y):\n",
    "            sess.run(optimizer,feed_dict={X:x,Y:y})\n",
    "        \n",
    "        if(epoch+1) % dispaly_step ==0:\n",
    "            c=sess.run(cost,feed_dict={X:train_X,Y:train_Y})\n",
    "            print(\"Epoch:\",'%04d' % (epoch+1),\"cost=\",\"{:.9f}\".format(c),\\\n",
    "                 \"W=\",sess.run(W),\"b=\",sess.run(b))\n",
    "            \n",
    "    print(\"Optimization Finished!\")\n",
    "    training_cost = sess.run(cost, feed_dict={X:train_X,Y:train_Y})\n",
    "    print(\"Training cost=\",training_cost,\"W=\",sess.run(W),\"b=\",sess.run(b),'\\n')\n",
    "    \n",
    "    plt.plot(train_X,train_Y,'ro',label='Original data')\n",
    "    plt.plot(train_X,sess.run(W)*train_X+sess.run(b),label='Fitted line')\n",
    "    plt.legend()\n",
    "    plt.show()"
   ]
  },
  {
   "cell_type": "code",
   "execution_count": null,
   "metadata": {},
   "outputs": [],
   "source": []
  }
 ],
 "metadata": {
  "kernelspec": {
   "display_name": "Python 3",
   "language": "python",
   "name": "python3"
  },
  "language_info": {
   "codemirror_mode": {
    "name": "ipython",
    "version": 3
   },
   "file_extension": ".py",
   "mimetype": "text/x-python",
   "name": "python",
   "nbconvert_exporter": "python",
   "pygments_lexer": "ipython3",
   "version": "3.6.5"
  }
 },
 "nbformat": 4,
 "nbformat_minor": 2
}
